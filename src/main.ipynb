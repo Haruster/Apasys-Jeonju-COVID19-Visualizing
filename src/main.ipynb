{
 "cells": [
  {
   "cell_type": "code",
   "execution_count": 1,
   "id": "e8dfe0e6",
   "metadata": {},
   "outputs": [],
   "source": [
    "# pandas 라이브러리를 불러옵니다.\n",
    "import pandas as pd"
   ]
  },
  {
   "cell_type": "code",
   "execution_count": 3,
   "id": "008935dd",
   "metadata": {},
   "outputs": [
    {
     "data": {
      "text/plain": [
       "'https://corona.jeonju.go.kr/'"
      ]
     },
     "execution_count": 3,
     "metadata": {},
     "output_type": "execute_result"
    }
   ],
   "source": [
    "# 전주시 코로나 19 사이트의 url 주소를 입력해줍니다. -> 크롤링을 위함\n",
    "\n",
    "url = \"https://corona.jeonju.go.kr/\"\n",
    "url \n"
   ]
  },
  {
   "cell_type": "code",
   "execution_count": 4,
   "id": "4555a3af",
   "metadata": {},
   "outputs": [
    {
     "data": {
      "text/plain": [
       "[            확진자 번호         확진일                        접촉력  격리시설\n",
       " 0  전북5247번(전주1907)  2021/11/02             전북 5229(가족) 접촉  격리완료\n",
       " 1  전북5246번(전주1906)  2021/11/02             전북 5228(가족) 접촉  격리완료\n",
       " 2  전북5245번(전주1905)  2021/11/02             전북 5227(가족) 접촉  격리완료\n",
       " 3  전북5229번(전주1904)  2021/11/02                        조사중  격리완료\n",
       " 4  전북5228번(전주1903)  2021/11/02            전북 5229번(친구) 접촉  격리완료\n",
       " 5  전북5227번(전주1902)  2021/11/02            전북 5229번(친구) 접촉  격리완료\n",
       " 6  전북5224번(전주1901)  2021/11/01                        조사중  격리완료\n",
       " 7  전북5212번(전주1900)  2021/10/31            전북 5167번(동료) 접촉  격리완료\n",
       " 8  전북5208번(전주1899)  2021/10/31            전북 5198번(가족) 접촉  격리완료\n",
       " 9  전북5201번(전주1898)  2021/10/31  자가격리중 확진(전북 4993번(가족) 접촉)  격리완료,\n",
       "             시도          시군구         장소유형          상호명      주소(도로명)  \\\n",
       " 0  데이터 로딩중입니다.  데이터 로딩중입니다.  데이터 로딩중입니다.  데이터 로딩중입니다.  데이터 로딩중입니다.   \n",
       " \n",
       "           노출일시         소독여부  \n",
       " 0  데이터 로딩중입니다.  데이터 로딩중입니다.  ,\n",
       "     번호                    제목\n",
       " 0  234  코로나19 도내발생현황(11.02.)\n",
       " 1  233  코로나19 도내발생현황(11.01.)\n",
       " 2  232  코로나19 도내발생현황(10.31.)\n",
       " 3  231  코로나19 도내발생현황(10.30.)\n",
       " 4  230  코로나19 도내발생현황(10.29.)\n",
       " 5  229  코로나19 도내발생현황(10.28.)\n",
       " 6  228  코로나19 도내발생현황(10.27.)\n",
       " 7  227  코로나19 도내발생현황(10.26.)\n",
       " 8  226  코로나19 도내발생현황(10.25.)\n",
       " 9  225  코로나19 도내발생현황(10.24.),\n",
       "                                 대표사진                                 내용  \\\n",
       " 0                                NaN                        전주정보문화산업진흥원   \n",
       " 1  방역현황 안내표  방역일시  7  장소  7  참여인원  7  방역현황 안내표  방역일시  7  장소  7  참여인원  7   \n",
       " 2                               방역일시                                  7   \n",
       " 3                                 장소                                  7   \n",
       " 4                               참여인원                                  7   \n",
       " \n",
       "                                  방역일                         Unnamed: 3  \\\n",
       " 0                         2020-03-04                                NaN   \n",
       " 1  방역현황 안내표  방역일시  7  장소  7  참여인원  7  방역현황 안내표  방역일시  7  장소  7  참여인원  7   \n",
       " 2                                NaN                                NaN   \n",
       " 3                                NaN                                NaN   \n",
       " 4                                NaN                                NaN   \n",
       " \n",
       "                           Unnamed: 4  \n",
       " 0                                NaN  \n",
       " 1  방역현황 안내표  방역일시  7  장소  7  참여인원  7  \n",
       " 2                                NaN  \n",
       " 3                                NaN  \n",
       " 4                                NaN  ,\n",
       "       0  1\n",
       " 0  방역일시  7\n",
       " 1    장소  7\n",
       " 2  참여인원  7]"
      ]
     },
     "execution_count": 4,
     "metadata": {},
     "output_type": "execute_result"
    }
   ],
   "source": [
    "# 판다스의 read_html을 통해 위 url에 있는 데이터를 불러옴\n",
    "pd.read_html(url)"
   ]
  },
  {
   "cell_type": "code",
   "execution_count": 5,
   "id": "5ec61eb9",
   "metadata": {},
   "outputs": [
    {
     "data": {
      "text/plain": [
       "5"
      ]
     },
     "execution_count": 5,
     "metadata": {},
     "output_type": "execute_result"
    }
   ],
   "source": [
    "# pandas의 read_html을 통해 위 url에 있는 데이터를 불러옴\n",
    "\n",
    "table = pd.read_html(url)\n",
    "\n",
    "len(table)"
   ]
  },
  {
   "cell_type": "code",
   "execution_count": 17,
   "id": "eae0fe03",
   "metadata": {},
   "outputs": [
    {
     "data": {
      "text/html": [
       "<div>\n",
       "<style scoped>\n",
       "    .dataframe tbody tr th:only-of-type {\n",
       "        vertical-align: middle;\n",
       "    }\n",
       "\n",
       "    .dataframe tbody tr th {\n",
       "        vertical-align: top;\n",
       "    }\n",
       "\n",
       "    .dataframe thead th {\n",
       "        text-align: right;\n",
       "    }\n",
       "</style>\n",
       "<table border=\"1\" class=\"dataframe\">\n",
       "  <thead>\n",
       "    <tr style=\"text-align: right;\">\n",
       "      <th></th>\n",
       "      <th>확진자 번호</th>\n",
       "      <th>확진일</th>\n",
       "      <th>접촉력</th>\n",
       "      <th>격리시설</th>\n",
       "    </tr>\n",
       "  </thead>\n",
       "  <tbody>\n",
       "    <tr>\n",
       "      <th>0</th>\n",
       "      <td>전북5247번(전주1907)</td>\n",
       "      <td>2021/11/02</td>\n",
       "      <td>전북 5229(가족) 접촉</td>\n",
       "      <td>격리완료</td>\n",
       "    </tr>\n",
       "    <tr>\n",
       "      <th>1</th>\n",
       "      <td>전북5246번(전주1906)</td>\n",
       "      <td>2021/11/02</td>\n",
       "      <td>전북 5228(가족) 접촉</td>\n",
       "      <td>격리완료</td>\n",
       "    </tr>\n",
       "    <tr>\n",
       "      <th>2</th>\n",
       "      <td>전북5245번(전주1905)</td>\n",
       "      <td>2021/11/02</td>\n",
       "      <td>전북 5227(가족) 접촉</td>\n",
       "      <td>격리완료</td>\n",
       "    </tr>\n",
       "    <tr>\n",
       "      <th>3</th>\n",
       "      <td>전북5229번(전주1904)</td>\n",
       "      <td>2021/11/02</td>\n",
       "      <td>조사중</td>\n",
       "      <td>격리완료</td>\n",
       "    </tr>\n",
       "    <tr>\n",
       "      <th>4</th>\n",
       "      <td>전북5228번(전주1903)</td>\n",
       "      <td>2021/11/02</td>\n",
       "      <td>전북 5229번(친구) 접촉</td>\n",
       "      <td>격리완료</td>\n",
       "    </tr>\n",
       "    <tr>\n",
       "      <th>5</th>\n",
       "      <td>전북5227번(전주1902)</td>\n",
       "      <td>2021/11/02</td>\n",
       "      <td>전북 5229번(친구) 접촉</td>\n",
       "      <td>격리완료</td>\n",
       "    </tr>\n",
       "    <tr>\n",
       "      <th>6</th>\n",
       "      <td>전북5224번(전주1901)</td>\n",
       "      <td>2021/11/01</td>\n",
       "      <td>조사중</td>\n",
       "      <td>격리완료</td>\n",
       "    </tr>\n",
       "    <tr>\n",
       "      <th>7</th>\n",
       "      <td>전북5212번(전주1900)</td>\n",
       "      <td>2021/10/31</td>\n",
       "      <td>전북 5167번(동료) 접촉</td>\n",
       "      <td>격리완료</td>\n",
       "    </tr>\n",
       "    <tr>\n",
       "      <th>8</th>\n",
       "      <td>전북5208번(전주1899)</td>\n",
       "      <td>2021/10/31</td>\n",
       "      <td>전북 5198번(가족) 접촉</td>\n",
       "      <td>격리완료</td>\n",
       "    </tr>\n",
       "    <tr>\n",
       "      <th>9</th>\n",
       "      <td>전북5201번(전주1898)</td>\n",
       "      <td>2021/10/31</td>\n",
       "      <td>자가격리중 확진(전북 4993번(가족) 접촉)</td>\n",
       "      <td>격리완료</td>\n",
       "    </tr>\n",
       "  </tbody>\n",
       "</table>\n",
       "</div>"
      ],
      "text/plain": [
       "            확진자 번호         확진일                        접촉력  격리시설\n",
       "0  전북5247번(전주1907)  2021/11/02             전북 5229(가족) 접촉  격리완료\n",
       "1  전북5246번(전주1906)  2021/11/02             전북 5228(가족) 접촉  격리완료\n",
       "2  전북5245번(전주1905)  2021/11/02             전북 5227(가족) 접촉  격리완료\n",
       "3  전북5229번(전주1904)  2021/11/02                        조사중  격리완료\n",
       "4  전북5228번(전주1903)  2021/11/02            전북 5229번(친구) 접촉  격리완료\n",
       "5  전북5227번(전주1902)  2021/11/02            전북 5229번(친구) 접촉  격리완료\n",
       "6  전북5224번(전주1901)  2021/11/01                        조사중  격리완료\n",
       "7  전북5212번(전주1900)  2021/10/31            전북 5167번(동료) 접촉  격리완료\n",
       "8  전북5208번(전주1899)  2021/10/31            전북 5198번(가족) 접촉  격리완료\n",
       "9  전북5201번(전주1898)  2021/10/31  자가격리중 확진(전북 4993번(가족) 접촉)  격리완료"
      ]
     },
     "execution_count": 17,
     "metadata": {},
     "output_type": "execute_result"
    }
   ],
   "source": [
    "# read_html은 사이트 내의 html 태그를 불러온다.\n",
    "table[0]"
   ]
  },
  {
   "cell_type": "code",
   "execution_count": 25,
   "id": "08ca4bc5",
   "metadata": {},
   "outputs": [
    {
     "data": {
      "text/plain": [
       "확진자 번호    전북5247번(전주1907)\n",
       "확진일            2021/11/02\n",
       "접촉력        전북 5229(가족) 접촉\n",
       "격리시설                 격리완료\n",
       "Name: 0, dtype: object"
      ]
     },
     "execution_count": 25,
     "metadata": {},
     "output_type": "execute_result"
    }
   ],
   "source": [
    "# 제일 최근 확진자 정보\n",
    "csvd.loc[0]\n",
    "\n"
   ]
  },
  {
   "cell_type": "code",
   "execution_count": 28,
   "id": "fba5bb6b",
   "metadata": {},
   "outputs": [
    {
     "data": {
      "text/plain": [
       "(10, 4)"
      ]
     },
     "execution_count": 28,
     "metadata": {},
     "output_type": "execute_result"
    }
   ],
   "source": [
    "# 변수에 table값 저장\n",
    "csvd = table[0]\n",
    "\n",
    "csvd.shape"
   ]
  },
  {
   "cell_type": "code",
   "execution_count": null,
   "id": "d14a7099",
   "metadata": {},
   "outputs": [],
   "source": []
  }
 ],
 "metadata": {
  "kernelspec": {
   "display_name": "Python 3",
   "language": "python",
   "name": "python3"
  },
  "language_info": {
   "codemirror_mode": {
    "name": "ipython",
    "version": 3
   },
   "file_extension": ".py",
   "mimetype": "text/x-python",
   "name": "python",
   "nbconvert_exporter": "python",
   "pygments_lexer": "ipython3",
   "version": "3.8.8"
  }
 },
 "nbformat": 4,
 "nbformat_minor": 5
}
